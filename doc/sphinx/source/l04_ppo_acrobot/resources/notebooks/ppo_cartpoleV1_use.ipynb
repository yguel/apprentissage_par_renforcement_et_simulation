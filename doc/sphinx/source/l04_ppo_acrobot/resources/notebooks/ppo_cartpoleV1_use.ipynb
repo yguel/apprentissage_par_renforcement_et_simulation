{
 "cells": [
  {
   "cell_type": "markdown",
   "id": "3e20e489-473d-41ea-a85e-e2bea9f805c0",
   "metadata": {},
   "source": [
    "# Loading an Agent for Inference"
   ]
  },
  {
   "cell_type": "code",
   "execution_count": 1,
   "id": "cf527304-d824-4425-a414-7868afdaa209",
   "metadata": {},
   "outputs": [],
   "source": [
    "import os\n",
    "\n",
    "import imageio\n",
    "import gymnasium as gym\n",
    "import numpy as np\n",
    "import torch\n",
    "from agilerl.algorithms.ppo import PPO"
   ]
  },
  {
   "cell_type": "markdown",
   "id": "4b4350b2-f2d1-4070-899a-cd3d60fef92b",
   "metadata": {},
   "source": [
    "## Define the path were model is saved"
   ]
  },
  {
   "cell_type": "code",
   "execution_count": 2,
   "id": "a08a25f2-a0a9-454b-9337-6d728f599003",
   "metadata": {},
   "outputs": [],
   "source": [
    "save_path = \"PPO_cartpole_trained_agent.pt\""
   ]
  },
  {
   "cell_type": "code",
   "execution_count": 3,
   "id": "e8584704-3c84-495a-846b-23add644bc25",
   "metadata": {},
   "outputs": [],
   "source": [
    "# Set-up the device\n",
    "device = \"cuda\" if torch.cuda.is_available() else \"cpu\""
   ]
  },
  {
   "cell_type": "code",
   "execution_count": 4,
   "id": "c5f5c1c0-e6b2-4648-8dac-d58b1357c167",
   "metadata": {},
   "outputs": [],
   "source": [
    "ppo = PPO.load(save_path, device=device)"
   ]
  },
  {
   "cell_type": "markdown",
   "id": "47b4e6fe-de81-41e3-a05d-06041a0fb220",
   "metadata": {},
   "source": [
    "## Test loop for inference"
   ]
  },
  {
   "cell_type": "code",
   "execution_count": 5,
   "id": "a47f4d74-7313-4578-9dfb-6ed57f96e6fe",
   "metadata": {},
   "outputs": [
    {
     "name": "stdout",
     "output_type": "stream",
     "text": [
      "--------------- Episode: 0 ---------------\n",
      "Episodic Reward:  500.0\n",
      "--------------- Episode: 1 ---------------\n",
      "Episodic Reward:  500.0\n",
      "--------------- Episode: 2 ---------------\n",
      "Episodic Reward:  500.0\n",
      "--------------- Episode: 3 ---------------\n",
      "Episodic Reward:  500.0\n",
      "--------------- Episode: 4 ---------------\n",
      "Episodic Reward:  500.0\n",
      "--------------- Episode: 5 ---------------\n",
      "Episodic Reward:  500.0\n",
      "--------------- Episode: 6 ---------------\n",
      "Episodic Reward:  500.0\n"
     ]
    }
   ],
   "source": [
    "test_env = gym.make(\"CartPole-v1\", render_mode=\"rgb_array\")\n",
    "rewards = []\n",
    "frames = []\n",
    "testing_eps = 7\n",
    "max_testing_steps = 1000\n",
    "state_is_a_RGB_image = False\n",
    "\n",
    "with torch.no_grad():\n",
    "    for ep in range(testing_eps):\n",
    "        state = test_env.reset()[0]  # Reset environment at start of episode\n",
    "        score = 0\n",
    "\n",
    "        for step in range(max_testing_steps):\n",
    "            # If your state is an RGB image\n",
    "            if state_is_a_RGB_image:\n",
    "                state = np.moveaxis(state, [-1], [-3])\n",
    "\n",
    "            # Get next action from agent\n",
    "            action, *_ = ppo.get_action(state)\n",
    "            action = action.squeeze()\n",
    "\n",
    "            # Save the frame for this step and append to frames list\n",
    "            frame = test_env.render()\n",
    "            frames.append(frame)\n",
    "\n",
    "            # Take the action in the environment\n",
    "            state, reward, terminated, truncated, _ = test_env.step(action)\n",
    "\n",
    "            # Collect the score\n",
    "            score += reward\n",
    "\n",
    "            # Break if environment 0 is done or truncated\n",
    "            if terminated or truncated:\n",
    "                break\n",
    "\n",
    "        # Collect and print episodic reward\n",
    "        rewards.append(score)\n",
    "        print(\"-\" * 15, f\"Episode: {ep}\", \"-\" * 15)\n",
    "        print(\"Episodic Reward: \", rewards[-1])\n",
    "\n",
    "    test_env.close()"
   ]
  },
  {
   "cell_type": "markdown",
   "id": "7dc99bd9-015a-4c43-8980-da9d3dbc6668",
   "metadata": {},
   "source": [
    "## Save and render episodes as a gif"
   ]
  },
  {
   "cell_type": "code",
   "execution_count": 6,
   "id": "1588d70f-f521-4f11-9c6c-d20db8b8ec79",
   "metadata": {},
   "outputs": [],
   "source": [
    "gif_path = \"./videos/\"\n",
    "os.makedirs(gif_path, exist_ok=True)\n",
    "imageio.mimwrite(os.path.join(\"./videos/\", \"ppo_agilerl_cartpole.gif\"), frames, loop=0)\n",
    "mean_fitness = np.mean(rewards)"
   ]
  },
  {
   "cell_type": "code",
   "execution_count": null,
   "id": "50ad9177-5d06-43b7-8c26-f9c85cd42c2c",
   "metadata": {},
   "outputs": [],
   "source": []
  }
 ],
 "metadata": {
  "kernelspec": {
   "display_name": "Python 3 (ipykernel)",
   "language": "python",
   "name": "python3"
  },
  "language_info": {
   "codemirror_mode": {
    "name": "ipython",
    "version": 3
   },
   "file_extension": ".py",
   "mimetype": "text/x-python",
   "name": "python",
   "nbconvert_exporter": "python",
   "pygments_lexer": "ipython3",
   "version": "3.12.6"
  }
 },
 "nbformat": 4,
 "nbformat_minor": 5
}
