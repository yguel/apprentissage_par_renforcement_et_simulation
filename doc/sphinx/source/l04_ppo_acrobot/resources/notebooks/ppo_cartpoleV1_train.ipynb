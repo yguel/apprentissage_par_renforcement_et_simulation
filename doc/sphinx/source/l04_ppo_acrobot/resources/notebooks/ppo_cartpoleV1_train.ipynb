{
 "cells": [
  {
   "cell_type": "markdown",
   "id": "ba7f2393-805c-4e9f-a883-011cacf9f6e9",
   "metadata": {},
   "source": [
    "# Dependencies"
   ]
  },
  {
   "cell_type": "code",
   "execution_count": 1,
   "id": "267a40cf-7d5c-459c-9c6e-eb599a06fb4e",
   "metadata": {},
   "outputs": [],
   "source": [
    "import os\n",
    "\n",
    "import imageio\n",
    "import gymnasium as gym\n",
    "import numpy as np\n",
    "import torch\n",
    "from agilerl.algorithms.ppo import PPO\n",
    "from agilerl.hpo.mutation import Mutations\n",
    "from agilerl.hpo.tournament import TournamentSelection\n",
    "from agilerl.training.train_on_policy import train_on_policy\n",
    "from agilerl.utils.utils import create_population, make_vect_envs\n",
    "from tqdm import trange"
   ]
  },
  {
   "cell_type": "markdown",
   "id": "20304c59-894f-468c-87a9-a488d2b3941d",
   "metadata": {},
   "source": [
    "# Defining Hyperparameters"
   ]
  },
  {
   "cell_type": "code",
   "execution_count": 2,
   "id": "cd40759b-bac1-4d0a-a831-fb5abd4809f7",
   "metadata": {},
   "outputs": [],
   "source": [
    "# Initial hyperparameters\n",
    "INIT_HP = {\n",
    "    \"POP_SIZE\": 4,  # Population size\n",
    "    \"DISCRETE_ACTIONS\": True,  # Discrete action space\n",
    "    \"BATCH_SIZE\": 128,  # Batch size\n",
    "    \"LR\": 0.001,  # Learning rate\n",
    "    \"LEARN_STEP\": 1024,  # Learning frequency\n",
    "    \"GAMMA\": 0.99,  # Discount factor\n",
    "    \"GAE_LAMBDA\": 0.95,  # Lambda for general advantage estimation\n",
    "    \"ACTION_STD_INIT\": 0.6,  # Initial action standard deviation\n",
    "    \"CLIP_COEF\": 0.2,  # Surrogate clipping coefficient\n",
    "    \"ENT_COEF\": 0.01,  # Entropy coefficient\n",
    "    \"VF_COEF\": 0.5,  # Value function coefficient\n",
    "    \"MAX_GRAD_NORM\": 0.5,  # Maximum norm for gradient clipping\n",
    "    \"TARGET_KL\": None,  # Target KL divergence threshold\n",
    "    \"UPDATE_EPOCHS\": 4,  # Number of policy update epochs\n",
    "    # Swap image channels dimension from last to first [H, W, C] -> [C, H, W]\n",
    "    \"CHANNELS_LAST\": False,  # Use with RGB states\n",
    "    \"TARGET_SCORE\": 200.0,  # Target score that will beat the environment\n",
    "    \"MAX_STEPS\": 150000,  # Maximum number of steps an agent takes in an environment\n",
    "    \"EVO_STEPS\": 10000,  # Evolution frequency\n",
    "    \"EVAL_STEPS\": None,  # Number of evaluation steps per episode\n",
    "    \"EVAL_LOOP\": 3,  # Number of evaluation episodes\n",
    "    \"TOURN_SIZE\": 2,  # Tournament size\n",
    "    \"ELITISM\": True,  # Elitism in tournament selection\n",
    "}\n",
    "\n",
    "# Mutation parameters\n",
    "MUT_P = {\n",
    "    # Mutation probabilities\n",
    "    \"NO_MUT\": 0.4,  # No mutation\n",
    "    \"ARCH_MUT\": 0.2,  # Architecture mutation\n",
    "    \"NEW_LAYER\": 0.2,  # New layer mutation\n",
    "    \"PARAMS_MUT\": 0.2,  # Network parameters mutation\n",
    "    \"ACT_MUT\": 0.2,  # Activation layer mutation\n",
    "    \"RL_HP_MUT\": 0.2,  # Learning HP mutation\n",
    "    # Learning HPs to choose from\n",
    "    \"RL_HP_SELECTION\": [\"lr\", \"batch_size\", \"learn_step\"],\n",
    "    \"MUT_SD\": 0.1,  # Mutation strength\n",
    "    \"RAND_SEED\": 42,  # Random seed\n",
    "    # Define max and min limits for mutating RL hyperparams\n",
    "    \"MIN_LR\": 0.0001,\n",
    "    \"MAX_LR\": 0.01,\n",
    "    \"MIN_BATCH_SIZE\": 8,\n",
    "    \"MAX_BATCH_SIZE\": 1024,\n",
    "    \"MIN_LEARN_STEP\": 256,\n",
    "    \"MAX_LEARN_STEP\": 8192,\n",
    "}"
   ]
  },
  {
   "cell_type": "markdown",
   "id": "823158a9-4cdd-4e16-b725-24bd9bff7215",
   "metadata": {},
   "source": [
    "# Create the Environment"
   ]
  },
  {
   "cell_type": "code",
   "execution_count": 3,
   "id": "169d4734-4e83-479d-8554-3072e0ed3f35",
   "metadata": {},
   "outputs": [],
   "source": [
    "num_envs=8\n",
    "env = make_vect_envs(\"CartPole-v1\", num_envs=num_envs)  # Create environment\n",
    "try:\n",
    "    state_dim = env.single_observation_space.n  # Discrete observation space\n",
    "    one_hot = True  # Requires one-hot encoding\n",
    "except Exception:\n",
    "    state_dim = env.single_observation_space.shape  # Continuous observation space\n",
    "    one_hot = False  # Does not require one-hot encoding\n",
    "try:\n",
    "    action_dim = env.single_action_space.n  # Discrete action space\n",
    "except Exception:\n",
    "    action_dim = env.single_action_space.shape[0]  # Continuous action space\n",
    "\n",
    "if INIT_HP[\"CHANNELS_LAST\"]:\n",
    "    # Adjust dimensions for PyTorch API (C, H, W), for envs with RGB image states\n",
    "    state_dim = (state_dim[2], state_dim[0], state_dim[1])"
   ]
  },
  {
   "cell_type": "markdown",
   "id": "f7abdda8-7f2a-416d-b667-1ba35fd463fe",
   "metadata": {},
   "source": [
    "# Create a Population of Agents"
   ]
  },
  {
   "cell_type": "code",
   "execution_count": 4,
   "id": "0a5af947-f33d-4c74-9e4d-2fadee8ac49a",
   "metadata": {},
   "outputs": [],
   "source": [
    "# Set-up the device\n",
    "device = \"cuda\" if torch.cuda.is_available() else \"cpu\"\n",
    "\n",
    "# Define the network configuration of a simple mlp with two hidden layers, each with 64 nodes\n",
    "net_config = {\"arch\": \"mlp\", \"hidden_size\": [64, 64]}\n",
    "\n",
    "# Define a population\n",
    "pop = create_population(\n",
    "    algo=\"PPO\",  # Algorithm\n",
    "    state_dim=state_dim,  # State dimension\n",
    "    action_dim=action_dim,  # Action dimension\n",
    "    one_hot=one_hot,  # One-hot encoding\n",
    "    net_config=net_config,  # Network configuration\n",
    "    INIT_HP=INIT_HP,  # Initial hyperparameter\n",
    "    population_size=INIT_HP[\"POP_SIZE\"],  # Population size\n",
    "    num_envs=num_envs,\n",
    "    device=device,\n",
    ")"
   ]
  },
  {
   "cell_type": "markdown",
   "id": "aeeb94eb-61e9-461e-85bb-d18319268a65",
   "metadata": {},
   "source": [
    "# Creating Mutations and Tournament objects"
   ]
  },
  {
   "cell_type": "code",
   "execution_count": 5,
   "id": "28333cec-b251-4a13-b1aa-e820f67d2935",
   "metadata": {},
   "outputs": [],
   "source": [
    "tournament = TournamentSelection(\n",
    "    INIT_HP[\"TOURN_SIZE\"],\n",
    "    INIT_HP[\"ELITISM\"],\n",
    "    INIT_HP[\"POP_SIZE\"],\n",
    "    INIT_HP[\"EVAL_LOOP\"],\n",
    ")"
   ]
  },
  {
   "cell_type": "code",
   "execution_count": 6,
   "id": "d846953e-a30a-46a0-9530-c40fce1d7444",
   "metadata": {},
   "outputs": [],
   "source": [
    "mutations = Mutations(\n",
    "    algo=\"PPO\",\n",
    "    no_mutation=MUT_P[\"NO_MUT\"],\n",
    "    architecture=MUT_P[\"ARCH_MUT\"],\n",
    "    new_layer_prob=MUT_P[\"NEW_LAYER\"],\n",
    "    parameters=MUT_P[\"PARAMS_MUT\"],\n",
    "    activation=MUT_P[\"ACT_MUT\"],\n",
    "    rl_hp=MUT_P[\"RL_HP_MUT\"],\n",
    "    rl_hp_selection=MUT_P[\"RL_HP_SELECTION\"],\n",
    "    min_lr=MUT_P[\"MIN_LR\"],\n",
    "    max_lr=MUT_P[\"MAX_LR\"],\n",
    "    min_batch_size=MUT_P[\"MAX_BATCH_SIZE\"],\n",
    "    max_batch_size=MUT_P[\"MAX_BATCH_SIZE\"],\n",
    "    min_learn_step=MUT_P[\"MIN_LEARN_STEP\"],\n",
    "    max_learn_step=MUT_P[\"MAX_LEARN_STEP\"],\n",
    "    mutation_sd=MUT_P[\"MUT_SD\"],\n",
    "    arch=net_config[\"arch\"],\n",
    "    rand_seed=MUT_P[\"RAND_SEED\"],\n",
    "    device=device,\n",
    ")"
   ]
  },
  {
   "cell_type": "markdown",
   "id": "de85dcb8-67cd-4f9d-8ad3-1834c79aaf20",
   "metadata": {},
   "source": [
    "# Training and Saving an Agent"
   ]
  },
  {
   "cell_type": "code",
   "execution_count": 7,
   "id": "b0075b94-8a08-4808-846f-040b89060edf",
   "metadata": {},
   "outputs": [
    {
     "name": "stdout",
     "output_type": "stream",
     "text": [
      "\n",
      "Training...\n"
     ]
    },
    {
     "name": "stderr",
     "output_type": "stream",
     "text": [
      "  7%|6         | 10496/150000 [  01:57<  35:47, 64.97step/s] "
     ]
    },
    {
     "name": "stdout",
     "output_type": "stream",
     "text": [
      "\n",
      "                --- Global Steps 40960 ---\n",
      "                Fitness:\t\t['277.00', '263.92', '364.33', '417.00']\n",
      "                Score:\t\t[58.21656050955414, 68.65413533834587, 73.79508196721312, 72.10483870967742]\n",
      "                5 fitness avgs:\t['417.00', '277.00', '277.00', '417.00']\n",
      "                10 score avgs:\t['218.10', '232.30', '232.30', '218.10']\n",
      "                Agents:\t\t[3, 4, 5, 6]\n",
      "                Steps:\t\t[10240, 10240, 10240, 10240]\n",
      "                Mutations:\t\t['None', 'bs', 'param', 'None']\n",
      "                \r"
     ]
    },
    {
     "name": "stderr",
     "output_type": "stream",
     "text": [
      " 14%|#3        | 20736/150000 [  03:37<  40:40, 52.97step/s] "
     ]
    },
    {
     "name": "stdout",
     "output_type": "stream",
     "text": [
      "\n",
      "                --- Global Steps 81920 ---\n",
      "                Fitness:\t\t['247.75', '401.50', '491.00', '259.79']\n",
      "                Score:\t\t[290.39285714285717, 332.64, 354.96, 319.0689655172414]\n",
      "                5 fitness avgs:\t['384.00', '338.40', '338.40', '384.00']\n",
      "                10 score avgs:\t['375.70', '215.30', '215.30', '375.70']\n",
      "                Agents:\t\t[5, 7, 8, 9]\n",
      "                Steps:\t\t[20480, 20480, 20480, 20480]\n",
      "                Mutations:\t\t['None', 'param', 'param', 'arch']\n",
      "                \r"
     ]
    },
    {
     "name": "stderr",
     "output_type": "stream",
     "text": [
      " 21%|##        | 30976/150000 [  05:34<  32:44, 60.58step/s] "
     ]
    },
    {
     "name": "stdout",
     "output_type": "stream",
     "text": [
      "\n",
      "                --- Global Steps 122880 ---\n",
      "                Fitness:\t\t['499.25', '462.54', '277.12', '500.00']\n",
      "                Score:\t\t[491.0, 297.07142857142856, 301.3, 447.6666666666667]\n",
      "                5 fitness avgs:\t['422.67', '422.67', '422.42', '379.78']\n",
      "                10 score avgs:\t['405.80', '405.80', '490.20', '348.00']\n",
      "                Agents:\t\t[9, 10, 11, 12]\n",
      "                Steps:\t\t[30720, 30720, 30720, 30720]\n",
      "                Mutations:\t\t['bs', 'None', 'arch', 'arch']\n",
      "                \r"
     ]
    },
    {
     "name": "stderr",
     "output_type": "stream",
     "text": [
      " 27%|##7       | 41216/150000 [  06:45<  12:16, 147.69step/s]"
     ]
    },
    {
     "name": "stdout",
     "output_type": "stream",
     "text": [
      "\n",
      "                --- Global Steps 163840 ---\n",
      "                Fitness:\t\t['497.12', '438.42', '470.17', '163.29']\n",
      "                Score:\t\t[495.25, 448.4117647058824, 464.05882352941177, 52.53896103896104]\n",
      "                5 fitness avgs:\t['441.28', '434.35', '434.35', '441.28']\n",
      "                10 score avgs:\t['492.40', '467.80', '467.80', '492.40']\n",
      "                Agents:\t\t[9, 13, 14, 15]\n",
      "                Steps:\t\t[40960, 40960, 40960, 40960]\n",
      "                Mutations:\t\t['None', 'bs', 'None', 'None']\n",
      "                \r"
     ]
    },
    {
     "name": "stderr",
     "output_type": "stream",
     "text": [
      " 34%|###4      | 51456/150000 [  07:47<  14:27, 113.54step/s]"
     ]
    },
    {
     "name": "stdout",
     "output_type": "stream",
     "text": [
      "\n",
      "                --- Global Steps 204800 ---\n",
      "                Fitness:\t\t['487.62', '162.75', '439.12', '444.46']\n",
      "                Score:\t\t[500.0, 421.0, 356.84, 443.77777777777777]\n",
      "                5 fitness avgs:\t['450.55', '435.31', '441.92', '441.92']\n",
      "                10 score avgs:\t['500.00', '333.60', '400.60', '400.60']\n",
      "                Agents:\t\t[9, 16, 17, 18]\n",
      "                Steps:\t\t[51200, 51200, 51200, 51200]\n",
      "                Mutations:\t\t['arch', 'None', 'arch', 'None']\n",
      "                \r"
     ]
    },
    {
     "name": "stderr",
     "output_type": "stream",
     "text": [
      " 41%|####1     | 61696/150000 [  08:52<  12:47, 115.08step/s]"
     ]
    },
    {
     "name": "stdout",
     "output_type": "stream",
     "text": [
      "\n",
      "                --- Global Steps 245760 ---\n",
      "                Fitness:\t\t['500.00', '376.12', '323.04', '154.08']\n",
      "                Score:\t\t[390.35, 336.4642857142857, 340.5, 238.85365853658536]\n",
      "                5 fitness avgs:\t['495.15', '455.13', '455.13', '495.15']\n",
      "                10 score avgs:\t['459.60', '198.10', '198.10', '459.60']\n",
      "                Agents:\t\t[9, 19, 20, 21]\n",
      "                Steps:\t\t[61440, 61440, 61440, 61440]\n",
      "                Mutations:\t\t['param', 'param', 'None', 'param']\n",
      "                \r"
     ]
    },
    {
     "name": "stderr",
     "output_type": "stream",
     "text": [
      " 48%|####7     | 71936/150000 [  10:16<  13:58, 93.15step/s] "
     ]
    },
    {
     "name": "stdout",
     "output_type": "stream",
     "text": [
      "\n",
      "                --- Global Steps 286720 ---\n",
      "                Fitness:\t\t['428.17', '500.00', '356.54', '470.88']\n",
      "                Score:\t\t[390.3636363636364, 368.09090909090907, 303.6896551724138, 491.5]\n",
      "                5 fitness avgs:\t['491.12', '482.58', '491.12', '491.12']\n",
      "                10 score avgs:\t['486.40', '259.70', '486.40', '486.40']\n",
      "                Agents:\t\t[21, 22, 23, 24]\n",
      "                Steps:\t\t[71680, 71680, 71680, 71680]\n",
      "                Mutations:\t\t['arch', 'bs', 'None', 'param']\n",
      "                \r"
     ]
    },
    {
     "name": "stderr",
     "output_type": "stream",
     "text": [
      " 55%|#####4    | 82176/150000 [  11:09<  12:17, 92.00step/s] "
     ]
    },
    {
     "name": "stdout",
     "output_type": "stream",
     "text": [
      "\n",
      "                --- Global Steps 327680 ---\n",
      "                Fitness:\t\t['454.79', '490.54', '358.75', '500.00']\n",
      "                Score:\t\t[404.23809523809524, 388.8181818181818, 479.8125, 398.55]\n",
      "                5 fitness avgs:\t['491.12', '491.12', '482.08', '491.12']\n",
      "                10 score avgs:\t['355.10', '355.10', '430.80', '355.10']\n",
      "                Agents:\t\t[24, 25, 26, 27]\n",
      "                Steps:\t\t[81920, 81920, 81920, 81920]\n",
      "                Mutations:\t\t['bs', 'None', 'None', 'None']\n",
      "                \r"
     ]
    },
    {
     "name": "stderr",
     "output_type": "stream",
     "text": [
      " 62%|######1   | 92416/150000 [  12:04<  09:22, 102.35step/s]"
     ]
    },
    {
     "name": "stdout",
     "output_type": "stream",
     "text": [
      "\n",
      "                --- Global Steps 368640 ---\n",
      "                Fitness:\t\t['453.12', '418.58', '500.00', '498.54']\n",
      "                Score:\t\t[422.85, 477.6470588235294, 426.7894736842105, 366.45454545454544]\n",
      "                5 fitness avgs:\t['491.41', '491.41', '491.41', '482.32']\n",
      "                10 score avgs:\t['328.00', '328.00', '328.00', '345.70']\n",
      "                Agents:\t\t[27, 28, 29, 30]\n",
      "                Steps:\t\t[92160, 92160, 92160, 92160]\n",
      "                Mutations:\t\t['param', 'None', 'None', 'lr']\n",
      "                \r"
     ]
    },
    {
     "name": "stderr",
     "output_type": "stream",
     "text": [
      " 68%|######8   | 102656/150000 [  12:51<  07:52, 100.28step/s]"
     ]
    },
    {
     "name": "stdout",
     "output_type": "stream",
     "text": [
      "\n",
      "                --- Global Steps 409600 ---\n",
      "                Fitness:\t\t['428.83', '500.00', '467.54', '500.00']\n",
      "                Score:\t\t[292.5806451612903, 500.0, 459.6666666666667, 470.52941176470586]\n",
      "                5 fitness avgs:\t['493.88', '493.88', '484.80', '487.39']\n",
      "                10 score avgs:\t['500.00', '500.00', '493.60', '447.20']\n",
      "                Agents:\t\t[28, 31, 32, 33]\n",
      "                Steps:\t\t[102400, 102400, 102400, 102400]\n",
      "                Mutations:\t\t['None', 'arch', 'None', 'None']\n",
      "                \r"
     ]
    },
    {
     "name": "stderr",
     "output_type": "stream",
     "text": [
      " 75%|#######5  | 112896/150000 [  13:43<  06:45, 91.49step/s] "
     ]
    },
    {
     "name": "stdout",
     "output_type": "stream",
     "text": [
      "\n",
      "                --- Global Steps 450560 ---\n",
      "                Fitness:\t\t['483.17', '500.00', '500.00', '500.00']\n",
      "                Score:\t\t[500.0, 477.47058823529414, 479.8235294117647, 468.6666666666667]\n",
      "                5 fitness avgs:\t['493.88', '487.39', '487.39', '487.39']\n",
      "                10 score avgs:\t['461.70', '443.60', '443.60', '443.60']\n",
      "                Agents:\t\t[31, 34, 35, 36]\n",
      "                Steps:\t\t[112640, 112640, 112640, 112640]\n",
      "                Mutations:\t\t['arch', 'lr', 'None', 'param']\n",
      "                \r"
     ]
    },
    {
     "name": "stderr",
     "output_type": "stream",
     "text": [
      " 82%|########2 | 123136/150000 [  14:36<  04:54, 91.09step/s] "
     ]
    },
    {
     "name": "stdout",
     "output_type": "stream",
     "text": [
      "\n",
      "                --- Global Steps 491520 ---\n",
      "                Fitness:\t\t['500.00', '472.75', '489.88', '447.04']\n",
      "                Score:\t\t[478.8235294117647, 492.4375, 500.0, 500.0]\n",
      "                5 fitness avgs:\t['499.71', '487.77', '491.19', '499.71']\n",
      "                10 score avgs:\t['464.00', '487.90', '500.00', '464.00']\n",
      "                Agents:\t\t[31, 37, 38, 39]\n",
      "                Steps:\t\t[122880, 122880, 122880, 122880]\n",
      "                Mutations:\t\t['param', 'None', 'None', 'lr']\n",
      "                \r"
     ]
    },
    {
     "name": "stderr",
     "output_type": "stream",
     "text": [
      " 89%|########8 | 133376/150000 [  15:27<  03:04, 89.88step/s] "
     ]
    },
    {
     "name": "stdout",
     "output_type": "stream",
     "text": [
      "\n",
      "                --- Global Steps 532480 ---\n",
      "                Fitness:\t\t['459.29', '434.67', '449.25', '500.00']\n",
      "                Score:\t\t[400.65, 414.05, 500.0, 456.05555555555554]\n",
      "                5 fitness avgs:\t['499.71', '499.71', '474.70', '491.57']\n",
      "                10 score avgs:\t['475.20', '475.20', '424.30', '469.20']\n",
      "                Agents:\t\t[39, 40, 41, 42]\n",
      "                Steps:\t\t[133120, 133120, 133120, 133120]\n",
      "                Mutations:\t\t['bs', 'lr', 'None', 'None']\n",
      "                \r"
     ]
    },
    {
     "name": "stderr",
     "output_type": "stream",
     "text": [
      " 96%|#########5| 143616/150000 [  16:17<  01:13, 86.60step/s] "
     ]
    },
    {
     "name": "stdout",
     "output_type": "stream",
     "text": [
      "\n",
      "                --- Global Steps 573440 ---\n",
      "                Fitness:\t\t['500.00', '500.00', '500.00', '386.54']\n",
      "                Score:\t\t[476.11764705882354, 500.0, 470.6111111111111, 371.4782608695652]\n",
      "                5 fitness avgs:\t['500.00', '500.00', '500.00', '500.00']\n",
      "                10 score avgs:\t['459.40', '459.40', '500.00', '500.00']\n",
      "                Agents:\t\t[39, 43, 44, 45]\n",
      "                Steps:\t\t[143360, 143360, 143360, 143360]\n",
      "                Mutations:\t\t['None', 'None', 'None', 'None']\n",
      "                \r"
     ]
    },
    {
     "name": "stderr",
     "output_type": "stream",
     "text": [
      "|          | 153600/? [  17:08<  00:00, 149.27step/s]         "
     ]
    },
    {
     "name": "stdout",
     "output_type": "stream",
     "text": [
      "\n",
      "                --- Global Steps 614400 ---\n",
      "                Fitness:\t\t['356.08', '447.54', '483.54', '500.00']\n",
      "                Score:\t\t[495.9375, 491.5625, 435.8421052631579, 497.375]\n",
      "                5 fitness avgs:\t['500.00', '489.51', '489.51', '500.00']\n",
      "                10 score avgs:\t['495.80', '486.50', '486.50', '495.80']\n",
      "                Agents:\t\t[45, 46, 47, 48]\n",
      "                Steps:\t\t[153600, 153600, 153600, 153600]\n",
      "                Mutations:\t\t['None', 'None', 'None', 'None']\n",
      "                \r"
     ]
    },
    {
     "name": "stderr",
     "output_type": "stream",
     "text": [
      "\n"
     ]
    }
   ],
   "source": [
    "# Define a save path for our trained agent\n",
    "save_path = \"PPO_cartpole_trained_agent.pt\"\n",
    "\n",
    "trained_pop, pop_fitnesses = train_on_policy(\n",
    "    env=env,\n",
    "    env_name=\"Acrobot-v1\",\n",
    "    algo=\"PPO\",\n",
    "    pop=pop,\n",
    "    INIT_HP=INIT_HP,\n",
    "    MUT_P=MUT_P,\n",
    "    swap_channels=INIT_HP[\"CHANNELS_LAST\"],\n",
    "    max_steps=INIT_HP[\"MAX_STEPS\"],\n",
    "    evo_steps=INIT_HP[\"EVO_STEPS\"],\n",
    "    eval_steps=INIT_HP[\"EVAL_STEPS\"],\n",
    "    eval_loop=INIT_HP[\"EVAL_LOOP\"],\n",
    "    tournament=tournament,\n",
    "    mutation=mutations,\n",
    "    wb=False,  # Boolean flag to record run with Weights & Biases\n",
    "    save_elite=True,  # Boolean flag to save the elite agent in the population\n",
    "    elite_path=save_path,\n",
    ")"
   ]
  },
  {
   "cell_type": "code",
   "execution_count": 8,
   "id": "9b8fb8f0-4daa-42e8-9abd-71d8b4dcbdd4",
   "metadata": {},
   "outputs": [
    {
     "name": "stdout",
     "output_type": "stream",
     "text": [
      "Training...\n"
     ]
    },
    {
     "name": "stderr",
     "output_type": "stream",
     "text": [
      "  7%|███████████▍                                                                                                                                                        | 10496/150000 [01:46<34:25, 67.54step/s]"
     ]
    },
    {
     "name": "stdout",
     "output_type": "stream",
     "text": [
      "--- Global steps 40960 ---\n",
      "Steps [20480, 20480, 20480, 20480]\n",
      "Scores: [251.9142857142857, 253.6969696969697, 334.16, 207.7906976744186]\n",
      "Fitnesses: ['359.67', '311.88', '434.38', '218.00']\n",
      "5 fitness avgs: ['318.33', '287.90', '399.35', '317.50']\n"
     ]
    },
    {
     "name": "stderr",
     "output_type": "stream",
     "text": [
      " 14%|██████████████████████▋                                                                                                                                             | 20736/150000 [03:37<34:32, 62.37step/s]"
     ]
    },
    {
     "name": "stdout",
     "output_type": "stream",
     "text": [
      "--- Global steps 81920 ---\n",
      "Steps [30720, 30720, 30720, 30720]\n",
      "Scores: [346.1111111111111, 247.05882352941177, 412.95238095238096, 415.15]\n",
      "Fitnesses: ['238.71', '339.29', '387.62', '384.92']\n",
      "5 fitness avgs: ['345.81', '324.76', '395.44', '394.54']\n"
     ]
    },
    {
     "name": "stderr",
     "output_type": "stream",
     "text": [
      " 21%|█████████████████████████████████▊                                                                                                                                  | 30976/150000 [05:21<28:56, 68.55step/s]"
     ]
    },
    {
     "name": "stdout",
     "output_type": "stream",
     "text": [
      "--- Global steps 122880 ---\n",
      "Steps [40960, 40960, 40960, 40960]\n",
      "Scores: [404.7142857142857, 309.58620689655174, 403.9, 350.92]\n",
      "Fitnesses: ['357.88', '197.54', '298.38', '252.38']\n",
      "5 fitness avgs: ['386.05', '345.97', '371.18', '359.68']\n"
     ]
    },
    {
     "name": "stderr",
     "output_type": "stream",
     "text": [
      " 27%|████████████████████████████████████████████▊                                                                                                                      | 41216/150000 [06:45<15:12, 119.18step/s]"
     ]
    },
    {
     "name": "stdout",
     "output_type": "stream",
     "text": [
      "--- Global steps 163840 ---\n",
      "Steps [51200, 51200, 51200, 51200]\n",
      "Scores: [338.0, 238.16666666666666, 393.76190476190476, 340.0]\n",
      "Fitnesses: ['437.00', '456.71', '323.00', '254.33']\n",
      "5 fitness avgs: ['396.24', '368.12', '361.54', '359.71']\n"
     ]
    },
    {
     "name": "stderr",
     "output_type": "stream",
     "text": [
      " 34%|████████████████████████████████████████████████████████▎                                                                                                           | 51456/150000 [08:36<27:12, 60.36step/s]"
     ]
    },
    {
     "name": "stdout",
     "output_type": "stream",
     "text": [
      "--- Global steps 204800 ---\n",
      "Steps [61440, 61440, 61440, 61440]\n",
      "Scores: [490.5625, 466.29411764705884, 443.94736842105266, 450.77777777777777]\n",
      "Fitnesses: ['495.21', '464.12', '494.46', '474.33']\n",
      "5 fitness avgs: ['422.42', '416.20', '422.27', '418.24']\n"
     ]
    },
    {
     "name": "stderr",
     "output_type": "stream",
     "text": [
      " 41%|███████████████████████████████████████████████████████████████████▍                                                                                                | 61696/150000 [10:57<20:57, 70.22step/s]"
     ]
    },
    {
     "name": "stdout",
     "output_type": "stream",
     "text": [
      "--- Global steps 245760 ---\n",
      "Steps [71680, 71680, 71680, 71680]\n",
      "Scores: [363.7916666666667, 433.3809523809524, 452.5, 490.5]\n",
      "Fitnesses: ['500.00', '274.67', '500.00', '500.00']\n",
      "5 fitness avgs: ['435.54', '390.48', '435.54', '435.54']\n"
     ]
    },
    {
     "name": "stderr",
     "output_type": "stream",
     "text": [
      " 48%|██████████████████████████████████████████████████████████████████████████████▋                                                                                     | 71936/150000 [13:13<33:59, 38.27step/s]"
     ]
    },
    {
     "name": "stdout",
     "output_type": "stream",
     "text": [
      "--- Global steps 286720 ---\n",
      "Steps [81920, 81920, 81920, 81920]\n",
      "Scores: [466.5882352941176, 326.15384615384613, 460.3333333333333, 456.22222222222223]\n",
      "Fitnesses: ['416.21', '477.71', '500.00', '500.00']\n",
      "5 fitness avgs: ['441.26', '408.49', '458.02', '458.02']\n"
     ]
    },
    {
     "name": "stderr",
     "output_type": "stream",
     "text": [
      " 55%|█████████████████████████████████████████████████████████████████████████████████████████▌                                                                          | 81920/150000 [16:37<23:09, 49.01step/s]"
     ]
    },
    {
     "name": "stdout",
     "output_type": "stream",
     "text": [
      "--- Global steps 327680 ---\n",
      "Steps [92160, 92160, 92160, 92160]\n",
      "Scores: [395.5, 471.70588235294116, 486.1875, 477.94117647058823]\n",
      "Fitnesses: ['363.17', '500.00', '363.33', '335.75']\n",
      "5 fitness avgs: ['459.07', '486.44', '459.11', '453.59']\n"
     ]
    },
    {
     "name": "stderr",
     "output_type": "stream",
     "text": [
      " 62%|█████████████████████████████████████████████████████████████████████████████████████████████████████                                                               | 92416/150000 [20:32<25:29, 37.65step/s]"
     ]
    },
    {
     "name": "stdout",
     "output_type": "stream",
     "text": [
      "--- Global steps 368640 ---\n",
      "Steps [102400, 102400, 102400, 102400]\n",
      "Scores: [436.4117647058824, 385.3333333333333, 485.47058823529414, 324.32142857142856]\n",
      "Fitnesses: ['469.42', '373.58', '495.12', '285.58']\n",
      "5 fitness avgs: ['492.93', '440.91', '498.07', '428.82']\n"
     ]
    },
    {
     "name": "stderr",
     "output_type": "stream",
     "text": [
      " 68%|███████████████████████████████████████████████████████████████████████████████████████████████████████████████▌                                                   | 102656/150000 [23:33<21:28, 36.74step/s]"
     ]
    },
    {
     "name": "stdout",
     "output_type": "stream",
     "text": [
      "--- Global steps 409600 ---\n",
      "Steps [112640, 112640, 112640, 112640]\n",
      "Scores: [83.5137614678899, 315.74074074074076, 473.0625, 423.05]\n",
      "Fitnesses: ['238.96', '489.29', '428.29', '380.21']\n",
      "5 fitness avgs: ['446.82', '439.73', '484.68', '417.91']\n"
     ]
    },
    {
     "name": "stderr",
     "output_type": "stream",
     "text": [
      " 75%|█████████████████████████████████████████████████████████████████████████████████████████████████████████████████████████▋                                        | 112640/150000 [25:06<01:36, 387.35step/s]"
     ]
    },
    {
     "name": "stdout",
     "output_type": "stream",
     "text": [
      "--- Global steps 450560 ---\n",
      "Steps [122880, 122880, 122880, 122880]\n",
      "Scores: [433.8333333333333, 252.57575757575756, 441.1111111111111, 266.0571428571429]\n",
      "Fitnesses: ['497.42', '487.83', '485.00', '267.75']\n",
      "5 fitness avgs: ['484.17', '444.38', '481.68', '400.37']\n"
     ]
    },
    {
     "name": "stderr",
     "output_type": "stream",
     "text": [
      " 82%|████████████████████████████████████████████████████████████████████████████████████████████████████████████████████████████████████▋                             | 122880/150000 [27:39<04:31, 100.05step/s]"
     ]
    },
    {
     "name": "stdout",
     "output_type": "stream",
     "text": [
      "--- Global steps 491520 ---\n",
      "Steps [133120, 133120, 133120, 133120]\n",
      "Scores: [477.11764705882354, 461.4375, 52.592592592592595, 479.1764705882353]\n",
      "Fitnesses: ['483.75', '464.79', '236.88', '425.54']\n",
      "5 fitness avgs: ['480.92', '474.64', '431.54', '469.27']\n"
     ]
    },
    {
     "name": "stderr",
     "output_type": "stream",
     "text": [
      " 89%|███████████████████████████████████████████████████████████████████████████████████████████████████████████████████████████████████████████████▊                  | 133120/150000 [30:31<02:46, 101.64step/s]"
     ]
    },
    {
     "name": "stdout",
     "output_type": "stream",
     "text": [
      "--- Global steps 532480 ---\n",
      "Steps [143360, 143360, 143360, 143360]\n",
      "Scores: [347.2692307692308, 435.94444444444446, 412.76190476190476, 500.0]\n",
      "Fitnesses: ['433.88', '438.25', '451.12', '495.88']\n",
      "5 fitness avgs: ['467.69', '456.93', '464.87', '480.09']\n"
     ]
    },
    {
     "name": "stderr",
     "output_type": "stream",
     "text": [
      " 96%|███████████████████████████████████████████████████████████████████████████████████████████████████████████████████████████████████████████████████████████▊       | 143360/150000 [33:16<02:22, 46.59step/s]"
     ]
    },
    {
     "name": "stdout",
     "output_type": "stream",
     "text": [
      "--- Global steps 573440 ---\n",
      "Steps [153600, 153600, 153600, 153600]\n",
      "Scores: [471.5, 462.55555555555554, 472.5882352941176, 480.11764705882354]\n",
      "Fitnesses: ['394.42', '500.00', '500.00', '498.25']\n",
      "5 fitness avgs: ['459.95', '468.67', '481.07', '468.32']\n"
     ]
    },
    {
     "name": "stderr",
     "output_type": "stream",
     "text": [
      " 96%|███████████████████████████████████████████████████████████████████████████████████████████████████████████████████████████████████████████████████████████▊       | 143360/150000 [33:26<01:32, 71.44step/s]\n"
     ]
    }
   ],
   "source": [
    "total_steps = 0\n",
    "\n",
    "# TRAINING LOOP\n",
    "print(\"Training...\")\n",
    "pbar = trange(INIT_HP[\"MAX_STEPS\"], unit=\"step\")\n",
    "while np.less([agent.steps[-1] for agent in pop], INIT_HP[\"MAX_STEPS\"]).all():\n",
    "    pop_episode_scores = []\n",
    "    for agent in pop:  # Loop through population\n",
    "        state, info = env.reset()  # Reset environment at start of episode\n",
    "        scores = np.zeros(num_envs)\n",
    "        completed_episode_scores = []\n",
    "        steps = 0\n",
    "\n",
    "        for _ in range(-(INIT_HP[\"EVO_STEPS\"] // -agent.learn_step)):\n",
    "\n",
    "            states = []\n",
    "            actions = []\n",
    "            log_probs = []\n",
    "            rewards = []\n",
    "            dones = []\n",
    "            values = []\n",
    "\n",
    "            learn_steps = 0\n",
    "\n",
    "            for idx_step in range(-(agent.learn_step // -num_envs)):\n",
    "                if INIT_HP[\"CHANNELS_LAST\"]:\n",
    "                    state = np.moveaxis(state, [-1], [-3])\n",
    "\n",
    "                # Get next action from agent\n",
    "                action, log_prob, _, value = agent.get_action(state)\n",
    "\n",
    "                # Act in environment\n",
    "                next_state, reward, terminated, truncated, info = env.step(action)\n",
    "\n",
    "                total_steps += num_envs\n",
    "                steps += num_envs\n",
    "                learn_steps += num_envs\n",
    "\n",
    "                states.append(state)\n",
    "                actions.append(action)\n",
    "                log_probs.append(log_prob)\n",
    "                rewards.append(reward)\n",
    "                dones.append(terminated)\n",
    "                values.append(value)\n",
    "\n",
    "                state = next_state\n",
    "                scores += np.array(reward)\n",
    "\n",
    "                for idx, (d, t) in enumerate(zip(terminated, truncated)):\n",
    "                    if d or t:\n",
    "                        completed_episode_scores.append(scores[idx])\n",
    "                        agent.scores.append(scores[idx])\n",
    "                        scores[idx] = 0\n",
    "\n",
    "            pbar.update(learn_steps // len(pop))\n",
    "\n",
    "            if INIT_HP[\"CHANNELS_LAST\"]:\n",
    "                next_state = np.moveaxis(next_state, [-1], [-3])\n",
    "\n",
    "            experiences = (\n",
    "                states,\n",
    "                actions,\n",
    "                log_probs,\n",
    "                rewards,\n",
    "                dones,\n",
    "                values,\n",
    "                next_state,\n",
    "            )\n",
    "            # Learn according to agent's RL algorithm\n",
    "            agent.learn(experiences)\n",
    "\n",
    "        agent.steps[-1] += steps\n",
    "        pop_episode_scores.append(completed_episode_scores)\n",
    "\n",
    "    # Evaluate population\n",
    "    fitnesses = [\n",
    "        agent.test(\n",
    "            env,\n",
    "            swap_channels=INIT_HP[\"CHANNELS_LAST\"],\n",
    "            max_steps=INIT_HP[\"EVAL_STEPS\"],\n",
    "            loop=INIT_HP[\"EVAL_LOOP\"],\n",
    "        )\n",
    "        for agent in pop\n",
    "    ]\n",
    "    mean_scores = [\n",
    "        (\n",
    "            np.mean(episode_scores)\n",
    "            if len(episode_scores) > 0\n",
    "            else \"0 completed episodes\"\n",
    "        )\n",
    "        for episode_scores in pop_episode_scores\n",
    "    ]\n",
    "\n",
    "    print(f\"--- Global steps {total_steps} ---\")\n",
    "    print(f\"Steps {[agent.steps[-1] for agent in pop]}\")\n",
    "    print(f\"Scores: {mean_scores}\")\n",
    "    print(f'Fitnesses: {[\"%.2f\"%fitness for fitness in fitnesses]}')\n",
    "    print(\n",
    "        f'5 fitness avgs: {[\"%.2f\"%np.mean(agent.fitness[-5:]) for agent in pop]}'\n",
    "    )\n",
    "\n",
    "    # Tournament selection and population mutation\n",
    "    elite, pop = tournament.select(pop)\n",
    "    pop = mutations.mutation(pop)\n",
    "\n",
    "    # Update step counter\n",
    "    for agent in pop:\n",
    "        agent.steps.append(agent.steps[-1])\n",
    "\n",
    "# Save the trained algorithm\n",
    "elite.save_checkpoint(save_path)\n",
    "\n",
    "pbar.close()\n",
    "env.close()"
   ]
  }
 ],
 "metadata": {
  "kernelspec": {
   "display_name": "Python 3 (ipykernel)",
   "language": "python",
   "name": "python3"
  },
  "language_info": {
   "codemirror_mode": {
    "name": "ipython",
    "version": 3
   },
   "file_extension": ".py",
   "mimetype": "text/x-python",
   "name": "python",
   "nbconvert_exporter": "python",
   "pygments_lexer": "ipython3",
   "version": "3.12.6"
  }
 },
 "nbformat": 4,
 "nbformat_minor": 5
}
